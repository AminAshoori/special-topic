{
 "cells": [
  {
   "cell_type": "markdown",
   "metadata": {},
   "source": [
    "بخش 1: بارگیری کتابخانه‌ها"
   ]
  },
  {
   "cell_type": "code",
   "execution_count": 6,
   "metadata": {},
   "outputs": [],
   "source": [
    "\n",
    "import os\n",
    "import urllib.request\n",
    "from PIL import Image\n",
    "import torch\n",
    "from torchvision import transforms, models\n",
    "import locale \n",
    "import re\n"
   ]
  },
  {
   "cell_type": "markdown",
   "metadata": {},
   "source": [
    "شرح:\n",
    "\n",
    "این بخش کتابخانه‌های لازم برای پردازش تصویر، یادگیری عمیق و ارزیابی مدل را بارگیری می‌کند.\n",
    "\n",
    "کتابخانه‌ها:\n",
    "\n",
    "os: برای کار با سیستم عامل\n",
    "urllib.request: برای دانلود فایل‌ها\n",
    "PIL: برای پردازش تصاویر\n",
    "torch: برای یادگیری عمیق\n",
    "torchvision: برای بینایی رایانه\n",
    "locale: برای تنظیم رمزگذاری\n",
    "re: برای عبارات منظم"
   ]
  },
  {
   "cell_type": "markdown",
   "metadata": {},
   "source": [
    "بخش 2: تنظیم مسیر پوشه تصاویر"
   ]
  },
  {
   "cell_type": "code",
   "execution_count": 7,
   "metadata": {},
   "outputs": [],
   "source": [
    "image_folder = \"car\""
   ]
  },
  {
   "cell_type": "markdown",
   "metadata": {},
   "source": [
    "شرح:\n",
    "\n",
    "این بخش مسیر پوشه حاوی تصاویر ماشین را تنظیم می‌کند. شما باید این مسیر را با توجه به محل ذخیره‌سازی تصاویر خود تغییر دهید.\n",
    "ImageNet\n",
    "\n",
    "بخش 3: دانلود برچسب‌های کلاس \n"
   ]
  },
  {
   "cell_type": "code",
   "execution_count": 8,
   "metadata": {},
   "outputs": [
    {
     "data": {
      "text/plain": [
       "('imagenet_class_labels.txt', <http.client.HTTPMessage at 0x1a6be29a650>)"
      ]
     },
     "execution_count": 8,
     "metadata": {},
     "output_type": "execute_result"
    }
   ],
   "source": [
    "url = \"https://raw.githubusercontent.com/joe-papa/pytorch-book/main/files/imagenet_class_labels.txt\"\n",
    "fpath = 'imagenet_class_labels.txt'\n",
    "urllib.request.urlretrieve(url, fpath)\n"
   ]
  },
  {
   "cell_type": "markdown",
   "metadata": {},
   "source": [
    "شرح:\n",
    "\n",
    "این بخش برچسب‌های کلاس ImageNet را از URL مشخص‌شده دانلود می‌کند و در فایل imagenet_class_labels.txt ذخیره می‌کند.\n",
    "\n",
    "ImageNet\n",
    "\n",
    "بخش 4: بارگیری برچسب‌های کلاس "
   ]
  },
  {
   "cell_type": "code",
   "execution_count": 4,
   "metadata": {},
   "outputs": [],
   "source": [
    "with open('imagenet_class_labels.txt') as f:\n",
    "    classes = [line.strip() for line in f.readlines()]\n"
   ]
  },
  {
   "cell_type": "markdown",
   "metadata": {},
   "source": [
    "شرح:\n",
    "\n",
    "این بخش برچسب‌های کلاس ImageNet را از فایل imagenet_class_labels.txt بارگیری می‌کند و در لیست classes ذخیره می‌کند.\n",
    "\n",
    "بخش 5: تعریف تبدیلات تصویر"
   ]
  },
  {
   "cell_type": "code",
   "execution_count": 9,
   "metadata": {},
   "outputs": [],
   "source": [
    "transform = transforms.Compose([\n",
    "  transforms.Resize(256),\n",
    "  transforms.CenterCrop(224),\n",
    "  transforms.ToTensor(),\n",
    "  transforms.Normalize(\n",
    "  mean=[0.485, 0.456, 0.406],\n",
    "  std=[0.229, 0.224, 0.225])])\n"
   ]
  },
  {
   "cell_type": "markdown",
   "metadata": {},
   "source": [
    "شرح:\n",
    "\n",
    "این بخش تبدیلات تصویر را برای پیش‌پردازش تصاویر قبل از ورود به مدل تعریف می‌کند.\n",
    "\n",
    "تبدیلات:\n",
    "\n",
    "Resize(256): تصویر را به اندازه 256x256 تغییر اندازه می‌دهد.\n",
    "CenterCrop(224): یک برش 224x224 از مرکز تصویر را استخراج می‌کند.\n",
    "ToTensor(): تصویر را به یک تانسور PyTorch تبدیل می‌کند.\n",
    "Normalize(): تصویر را با استفاده از میانگین و انحراف معیار استاندارد ImageNet نرمال می‌کند.\n",
    "AlexNet\n",
    "\n",
    "بخش 6: بارگیری مدل \n"
   ]
  },
  {
   "cell_type": "code",
   "execution_count": 10,
   "metadata": {},
   "outputs": [],
   "source": [
    "model = models.alexnet(weights=models.AlexNet_Weights.DEFAULT)"
   ]
  },
  {
   "cell_type": "markdown",
   "metadata": {},
   "source": [
    "شرح:\n",
    "\n",
    "این بخش مدل AlexNet را با استفاده از torchvision.models بارگیری می‌کند.\n",
    "\n",
    "آرگومان‌ها:\n",
    "\n",
    "weights=models.AlexNet_Weights.DEFAULT: مدل را با پارامترهای پیش‌آموزش‌شده ImageNet بارگیری می‌کند.\n",
    "\n",
    "\n",
    "بخش 7: تعریف تابع پیش‌بینی\n"
   ]
  },
  {
   "cell_type": "code",
   "execution_count": 11,
   "metadata": {},
   "outputs": [],
   "source": [
    "def predict(img_path):\n",
    "\n",
    "    img = Image.open(img_path)\n",
    "\n",
    "\n",
    "    img_tensor = transform(img)\n",
    "\n",
    "    batch = torch.unsqueeze(img_tensor, 0)\n",
    "\n",
    "\n",
    "    model.eval()\n",
    "\n",
    "    y = model(batch)\n",
    "\n",
    "    return torch.argmax(y, dim=1).item()"
   ]
  },
  {
   "cell_type": "markdown",
   "metadata": {},
   "source": [
    "\n",
    "با کمال میل! شرح کامل کد را برای شما در ادامه ارائه می‌کنم:\n",
    "\n",
    "بخش 8: ارزیابی مدل روی تصاویر ماشین"
   ]
  },
  {
   "cell_type": "code",
   "execution_count": 12,
   "metadata": {},
   "outputs": [],
   "source": [
    "correct = 0\n",
    "total = 0\n",
    "for filename in os.listdir(image_folder):\n",
    " img_path = os.path.join(image_folder, filename)\n",
    "\n",
    "prediction = predict(img_path)\n",
    "\n",
    "true_label = classes[prediction]\n",
    "\n",
    "if re.search(\"car\", true_label):\n",
    " correct += 1\n",
    "\n",
    " total += 1\n"
   ]
  },
  {
   "cell_type": "markdown",
   "metadata": {},
   "source": [
    "شرح:\n",
    "\n",
    "این بخش مدل را روی تصاویر موجود در پوشه image_folder ارزیابی می‌کند. برای هر تصویر:\n",
    "\n",
    "مسیر تصویر با استفاده از os.path.join دریافت می‌شود.\n",
    "کلاس تصویر با استفاده از تابع predict پیش‌بینی می‌شود.\n",
    "برچسب واقعی تصویر با استفاده از لیست classes و شاخص پیش‌بینی‌شده (prediction) استخراج می‌شود.\n",
    "اگر پیش‌بینی صحیح باشد، تعداد correct افزایش می‌یابد.\n",
    "تعداد کل تصاویر (total) افزایش می‌یابد.\n",
    "\n",
    "\n",
    "بخش 9: محاسبه دقت"
   ]
  },
  {
   "cell_type": "code",
   "execution_count": 13,
   "metadata": {},
   "outputs": [],
   "source": [
    "accuracy = (correct / total) * 100"
   ]
  },
  {
   "cell_type": "markdown",
   "metadata": {},
   "source": [
    "شرح:\n",
    "\n",
    "این بخش دقت مدل را با استفاده از تقسیم تعداد پیش‌بینی‌های صحیح (correct) بر تعداد کل تصاویر (total) و ضرب در 100 محاسبه می‌کند.\n",
    "\n",
    "بخش 10: چاپ دقت"
   ]
  },
  {
   "cell_type": "code",
   "execution_count": 14,
   "metadata": {},
   "outputs": [
    {
     "name": "stdout",
     "output_type": "stream",
     "text": [
      "accuracy: 100.00%\n"
     ]
    }
   ],
   "source": [
    "print(f\"accuracy: {accuracy:.2f}%\")"
   ]
  },
  {
   "cell_type": "markdown",
   "metadata": {},
   "source": [
    "شرح:\n",
    "\n",
    "این بخش دقت مدل را با دو رقم اعشار چاپ می‌کند."
   ]
  }
 ],
 "metadata": {
  "kernelspec": {
   "display_name": "base",
   "language": "python",
   "name": "python3"
  },
  "language_info": {
   "codemirror_mode": {
    "name": "ipython",
    "version": 3
   },
   "file_extension": ".py",
   "mimetype": "text/x-python",
   "name": "python",
   "nbconvert_exporter": "python",
   "pygments_lexer": "ipython3",
   "version": "3.11.7"
  }
 },
 "nbformat": 4,
 "nbformat_minor": 2
}
